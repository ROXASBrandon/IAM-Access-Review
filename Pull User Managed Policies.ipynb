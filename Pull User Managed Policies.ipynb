{
 "cells": [
  {
   "cell_type": "markdown",
   "metadata": {},
   "source": [
    "## Before running any of these commands, make sure you have AWS CLI __[installed](https://docs.aws.amazon.com/cli/latest/userguide/getting-started-install.html#getting-started-install-instructions)__ and __[configured](https://docs.aws.amazon.com/cli/latest/userguide/getting-started-quickstart.html)__ "
   ]
  },
  {
   "cell_type": "markdown",
   "metadata": {},
   "source": [
    "### Get User List"
   ]
  },
  {
   "cell_type": "code",
   "execution_count": null,
   "metadata": {},
   "outputs": [],
   "source": [
    "import boto3, csv\n",
    "\n",
    "iam = boto3.client('iam')\n",
    "user_list = []\n",
    "dict_index = 0\n",
    "response = iam.list_users()\n",
    "for user in response[\"Users\"]:\n",
    "    user_list.append(user[\"UserName\"])\n",
    "\n",
    "print(user_list)"
   ]
  },
  {
   "cell_type": "markdown",
   "metadata": {},
   "source": [
    "### Get Policy List"
   ]
  },
  {
   "cell_type": "code",
   "execution_count": null,
   "metadata": {},
   "outputs": [],
   "source": [
    "policy_list = []\n",
    "list_index = 0\n",
    "for user in user_list:\n",
    "    response = iam.list_attached_user_policies(UserName=user)\n",
    "    if(len(response[\"AttachedPolicies\"]) != 0):\n",
    "        policy_list.append(response[\"AttachedPolicies\"][0][\"PolicyName\"])\n",
    "    else:\n",
    "        policy_list.append(response[\"AttachedPolicies\"])\n",
    "    list_index += 1\n",
    "\n",
    "print(policy_list) "
   ]
  },
  {
   "cell_type": "markdown",
   "metadata": {},
   "source": [
    "### Get User Groups"
   ]
  },
  {
   "cell_type": "code",
   "execution_count": null,
   "metadata": {},
   "outputs": [],
   "source": [
    "groups_list = []\n",
    "list_index = 0\n",
    "for user in user_list:\n",
    "    user_groups = []\n",
    "    response = iam.list_groups_for_user(UserName=user)\n",
    "    for group in response['Groups']:\n",
    "        user_groups.append(group['GroupName'])\n",
    "    groups_list.append(user_groups)\n",
    "\n",
    "print(groups_list)"
   ]
  },
  {
   "cell_type": "markdown",
   "metadata": {},
   "source": [
    "### Format List for Export"
   ]
  },
  {
   "cell_type": "code",
   "execution_count": null,
   "metadata": {},
   "outputs": [],
   "source": [
    "new_list = []\n",
    "list_index = 0\n",
    "\n",
    "for user in user_list:\n",
    "    new_list.append(f'{user},{policy_list[list_index]},{groups_list[list_index]}')\n",
    "    list_index += 1\n",
    "\n",
    "\n",
    "def replaceStuff(new_list, replacement):\n",
    "    new_new_list = []\n",
    "    for each in new_list:\n",
    "        new_str = each.replace(replacement, '')\n",
    "        new_new_list.append(new_str)\n",
    "    return new_new_list\n",
    "\n",
    "new_list = replaceStuff(new_list, '\\'')\n",
    "new_list = replaceStuff(new_list, '[')\n",
    "new_list = replaceStuff(new_list, ']')\n",
    "print(new_list)"
   ]
  },
  {
   "cell_type": "markdown",
   "metadata": {},
   "source": [
    "# Export as CSV"
   ]
  },
  {
   "cell_type": "code",
   "execution_count": null,
   "metadata": {},
   "outputs": [],
   "source": [
    "with open('user_list.csv', 'w') as csvoutput:\n",
    "    titlerow = \"Users,Individual Policies,Groups\\n\"\n",
    "    csvoutput.write(titlerow)\n",
    "    for each in new_list:\n",
    "        csvoutput.write(f'{each}\\n')"
   ]
  }
 ],
 "metadata": {
  "kernelspec": {
   "display_name": "Python 3.10.6 64-bit",
   "language": "python",
   "name": "python3"
  },
  "language_info": {
   "codemirror_mode": {
    "name": "ipython",
    "version": 3
   },
   "file_extension": ".py",
   "mimetype": "text/x-python",
   "name": "python",
   "nbconvert_exporter": "python",
   "pygments_lexer": "ipython3",
   "version": "3.10.7"
  },
  "orig_nbformat": 4,
  "vscode": {
   "interpreter": {
    "hash": "18e1ce46dd2a6357d57fc1701b53fde5fe91ac373be0bdaa641bd593600b9865"
   }
  }
 },
 "nbformat": 4,
 "nbformat_minor": 2
}
